{
 "cells": [
  {
   "cell_type": "code",
   "execution_count": 1,
   "id": "68d8b956",
   "metadata": {},
   "outputs": [],
   "source": [
    "import pandas as pd\n",
    "import pandas_profiling\n",
    "import seaborn as sb\n",
    "import matplotlib.pyplot as plt \n",
    "import numpy as np"
   ]
  },
  {
   "cell_type": "code",
   "execution_count": 2,
   "id": "a5659a3b",
   "metadata": {},
   "outputs": [],
   "source": [
    "rawdata = pd.read_csv('vgsales.csv')"
   ]
  },
  {
   "cell_type": "code",
   "execution_count": 3,
   "id": "a1117de2",
   "metadata": {},
   "outputs": [],
   "source": [
    "data = rawdata.drop(columns = ['Rank', 'NA_Sales', 'EU_Sales', 'JP_Sales', 'Other_Sales'])"
   ]
  },
  {
   "cell_type": "code",
   "execution_count": 4,
   "id": "243c1216",
   "metadata": {},
   "outputs": [],
   "source": [
    "data = data.drop(data[data.Global_Sales > 80].index)"
   ]
  },
  {
   "cell_type": "code",
   "execution_count": 5,
   "id": "19c2087c",
   "metadata": {},
   "outputs": [
    {
     "data": {
      "text/html": [
       "<div>\n",
       "<style scoped>\n",
       "    .dataframe tbody tr th:only-of-type {\n",
       "        vertical-align: middle;\n",
       "    }\n",
       "\n",
       "    .dataframe tbody tr th {\n",
       "        vertical-align: top;\n",
       "    }\n",
       "\n",
       "    .dataframe thead th {\n",
       "        text-align: right;\n",
       "    }\n",
       "</style>\n",
       "<table border=\"1\" class=\"dataframe\">\n",
       "  <thead>\n",
       "    <tr style=\"text-align: right;\">\n",
       "      <th></th>\n",
       "      <th>Name</th>\n",
       "      <th>Platform</th>\n",
       "      <th>Year</th>\n",
       "      <th>Genre</th>\n",
       "      <th>Publisher</th>\n",
       "      <th>Global_Sales</th>\n",
       "    </tr>\n",
       "  </thead>\n",
       "  <tbody>\n",
       "    <tr>\n",
       "      <th>1</th>\n",
       "      <td>Super Mario Bros.</td>\n",
       "      <td>NES</td>\n",
       "      <td>1985.0</td>\n",
       "      <td>Platform</td>\n",
       "      <td>Nintendo</td>\n",
       "      <td>40.24</td>\n",
       "    </tr>\n",
       "    <tr>\n",
       "      <th>2</th>\n",
       "      <td>Mario Kart Wii</td>\n",
       "      <td>Wii</td>\n",
       "      <td>2008.0</td>\n",
       "      <td>Racing</td>\n",
       "      <td>Nintendo</td>\n",
       "      <td>35.82</td>\n",
       "    </tr>\n",
       "    <tr>\n",
       "      <th>3</th>\n",
       "      <td>Wii Sports Resort</td>\n",
       "      <td>Wii</td>\n",
       "      <td>2009.0</td>\n",
       "      <td>Sports</td>\n",
       "      <td>Nintendo</td>\n",
       "      <td>33.00</td>\n",
       "    </tr>\n",
       "    <tr>\n",
       "      <th>4</th>\n",
       "      <td>Pokemon Red/Pokemon Blue</td>\n",
       "      <td>GB</td>\n",
       "      <td>1996.0</td>\n",
       "      <td>Role-Playing</td>\n",
       "      <td>Nintendo</td>\n",
       "      <td>31.37</td>\n",
       "    </tr>\n",
       "    <tr>\n",
       "      <th>5</th>\n",
       "      <td>Tetris</td>\n",
       "      <td>GB</td>\n",
       "      <td>1989.0</td>\n",
       "      <td>Puzzle</td>\n",
       "      <td>Nintendo</td>\n",
       "      <td>30.26</td>\n",
       "    </tr>\n",
       "  </tbody>\n",
       "</table>\n",
       "</div>"
      ],
      "text/plain": [
       "                       Name Platform    Year         Genre Publisher  \\\n",
       "1         Super Mario Bros.      NES  1985.0      Platform  Nintendo   \n",
       "2            Mario Kart Wii      Wii  2008.0        Racing  Nintendo   \n",
       "3         Wii Sports Resort      Wii  2009.0        Sports  Nintendo   \n",
       "4  Pokemon Red/Pokemon Blue       GB  1996.0  Role-Playing  Nintendo   \n",
       "5                    Tetris       GB  1989.0        Puzzle  Nintendo   \n",
       "\n",
       "   Global_Sales  \n",
       "1         40.24  \n",
       "2         35.82  \n",
       "3         33.00  \n",
       "4         31.37  \n",
       "5         30.26  "
      ]
     },
     "execution_count": 5,
     "metadata": {},
     "output_type": "execute_result"
    }
   ],
   "source": [
    "data.head()"
   ]
  },
  {
   "cell_type": "code",
   "execution_count": 6,
   "id": "63513812",
   "metadata": {},
   "outputs": [],
   "source": [
    "from sklearn import preprocessing\n",
    "le = preprocessing.LabelEncoder()\n",
    "\n",
    "platnum = le.fit_transform(data['Platform'])\n",
    "gennum = le.fit_transform(data['Genre'])\n",
    "pubnum = le.fit_transform(data['Publisher'])"
   ]
  },
  {
   "cell_type": "code",
   "execution_count": 7,
   "id": "e471343b",
   "metadata": {},
   "outputs": [
    {
     "name": "stdout",
     "output_type": "stream",
     "text": [
      "                                                   Name Platform    Year  \\\n",
      "1                                     Super Mario Bros.      NES  1985.0   \n",
      "2                                        Mario Kart Wii      Wii  2008.0   \n",
      "3                                     Wii Sports Resort      Wii  2009.0   \n",
      "4                              Pokemon Red/Pokemon Blue       GB  1996.0   \n",
      "5                                                Tetris       GB  1989.0   \n",
      "...                                                 ...      ...     ...   \n",
      "16591                Woody Woodpecker in Crazy Castle 5      GBA  2002.0   \n",
      "16592                     Men in Black II: Alien Escape       GC  2003.0   \n",
      "16593  SCORE International Baja 1000: The Official Game      PS2  2008.0   \n",
      "16594                                        Know How 2       DS  2010.0   \n",
      "16595                                  Spirits & Spells      GBA  2003.0   \n",
      "\n",
      "              Genre   Publisher  Global_Sales  encoded_Platform  \\\n",
      "1          Platform    Nintendo       40240.0                13   \n",
      "2            Racing    Nintendo       35820.0                28   \n",
      "3            Sports    Nintendo       33000.0                28   \n",
      "4      Role-Playing    Nintendo       31370.0                 7   \n",
      "5            Puzzle    Nintendo       30260.0                 7   \n",
      "...             ...         ...           ...               ...   \n",
      "16591      Platform       Kemco          10.0                 8   \n",
      "16592       Shooter  Infogrames          10.0                 9   \n",
      "16593        Racing  Activision          10.0                18   \n",
      "16594        Puzzle    7G//AMES          10.0                 6   \n",
      "16595      Platform     Wanadoo          10.0                 8   \n",
      "\n",
      "       encoded_Genre  encoded_Publisher  \n",
      "1                  4                359  \n",
      "2                  6                359  \n",
      "3                 10                359  \n",
      "4                  7                359  \n",
      "5                  5                359  \n",
      "...              ...                ...  \n",
      "16591              4                269  \n",
      "16592              8                241  \n",
      "16593              6                 21  \n",
      "16594              5                  8  \n",
      "16595              4                546  \n",
      "\n",
      "[16595 rows x 9 columns]\n"
     ]
    }
   ],
   "source": [
    "#encoded_plat = pd.DataFrame(platnum)\n",
    "data['encoded_Platform'] = platnum\n",
    "data['encoded_Genre'] = gennum\n",
    "data['encoded_Publisher'] = pubnum\n",
    "data['Global_Sales'] = data['Global_Sales'].apply(lambda x: x*1000)\n",
    "print(data)\n"
   ]
  },
  {
   "cell_type": "code",
   "execution_count": 32,
   "id": "5aae0610",
   "metadata": {},
   "outputs": [],
   "source": [
    "newdata = data.dropna()\n",
    "\n",
    "target = newdata[['Global_Sales']].copy()\n",
    "\n",
    "Q1 = target.quantile(0.25)\n",
    "Q3 = target.quantile(0.75)\n",
    "\n",
    "rule = ((target<(Q1-1.5*(Q3-Q1))) | (target>(Q3+1.5*(Q3-Q1))))\n",
    "\n",
    "outliers = rule.any(axis = 1)\n",
    "\n",
    "outlierindices = outliers.index[outliers == True]\n",
    "\n",
    "newdata.drop(index=outlierindices, inplace = True)"
   ]
  },
  {
   "cell_type": "code",
   "execution_count": 33,
   "id": "e6796c55",
   "metadata": {},
   "outputs": [],
   "source": [
    "# randomdata = data.dropna()\n",
    "# split train/test\n",
    "\n",
    "# platform = pd.DataFrame(newdata['encoded_Platform'])\n",
    "# year = pd.DataFrame(newdata['Year'])\n",
    "# genre = pd.DataFrame(newdata['encoded_Genre'])\n",
    "# publisher = pd.DataFrame(newdata['encoded_Publisher'])\n",
    "sales = pd.DataFrame(newdata['Global_Sales'])\n",
    "\n",
    "pred = ['encoded_Platform', 'Year', 'encoded_Genre', 'encoded_Publisher']\n",
    "x_data = pd.DataFrame(newdata[pred])\n",
    "\n",
    "from sklearn.model_selection import train_test_split\n",
    "x_train, x_test, y_train, y_test = train_test_split(x_data, sales, test_size = 0.25)"
   ]
  },
  {
   "cell_type": "code",
   "execution_count": 34,
   "id": "01abff22",
   "metadata": {},
   "outputs": [],
   "source": [
    "from sklearn.linear_model import LinearRegression\n",
    "from sklearn.ensemble import GradientBoostingRegressor\n",
    "from sklearn.ensemble import RandomForestRegressor\n",
    "from sklearn.metrics import mean_absolute_error, mean_squared_error"
   ]
  },
  {
   "cell_type": "code",
   "execution_count": 35,
   "id": "553bbb4a",
   "metadata": {},
   "outputs": [
    {
     "data": {
      "text/plain": [
       "LinearRegression()"
      ]
     },
     "execution_count": 35,
     "metadata": {},
     "output_type": "execute_result"
    }
   ],
   "source": [
    "lr = LinearRegression()\n",
    "lr.fit(x_train, y_train)"
   ]
  },
  {
   "cell_type": "code",
   "execution_count": 36,
   "id": "fab78201",
   "metadata": {},
   "outputs": [
    {
     "data": {
      "text/plain": [
       "GradientBoostingRegressor(random_state=42)"
      ]
     },
     "execution_count": 36,
     "metadata": {},
     "output_type": "execute_result"
    }
   ],
   "source": [
    "gbr = GradientBoostingRegressor(random_state = 42)\n",
    "gbr.fit(x_train, y_train.values.ravel())"
   ]
  },
  {
   "cell_type": "code",
   "execution_count": 37,
   "id": "02dac637",
   "metadata": {},
   "outputs": [
    {
     "data": {
      "text/plain": [
       "RandomForestRegressor(random_state=42)"
      ]
     },
     "execution_count": 37,
     "metadata": {},
     "output_type": "execute_result"
    }
   ],
   "source": [
    "rf = RandomForestRegressor(random_state = 42)\n",
    "rf.fit(x_train, y_train.values.ravel())"
   ]
  },
  {
   "cell_type": "code",
   "execution_count": 38,
   "id": "b010768f",
   "metadata": {},
   "outputs": [],
   "source": [
    "y_train_predlr = lr.predict(x_train)\n",
    "y_test_predlr = lr.predict(x_test)"
   ]
  },
  {
   "cell_type": "code",
   "execution_count": 39,
   "id": "84891868",
   "metadata": {},
   "outputs": [],
   "source": [
    "y_train_predgbr = gbr.predict(x_train)\n",
    "y_test_predgbr = gbr.predict(x_test)"
   ]
  },
  {
   "cell_type": "code",
   "execution_count": 40,
   "id": "d636a751",
   "metadata": {},
   "outputs": [],
   "source": [
    "y_train_predrf = rf.predict(x_train)\n",
    "y_test_predrf = rf.predict(x_test)"
   ]
  },
  {
   "cell_type": "code",
   "execution_count": 41,
   "id": "3b56b031",
   "metadata": {},
   "outputs": [
    {
     "name": "stdout",
     "output_type": "stream",
     "text": [
      "Goodness of Fit of Model \tTrain Dataset\n",
      "LR: Mean Absolute Error (MAE) \t: 188.54126804161274\n",
      "LR: Mean Squared Error (MSE) \t: 60572.10590554968\n",
      "LR: Explained Variance (R^2) \t: 0.02721321261335563\n",
      "\n",
      "Goodness of Fit of Model \tTest Dataset\n",
      "LR: Mean Absolute Error (MAE) \t: 185.54429202808706\n",
      "LR: Mean Squared Error (MSE) \t: 58864.925702075634\n",
      "LR: Explained Variance (R^2) \t: 0.017954145009471456\n"
     ]
    }
   ],
   "source": [
    "mae_lr1 = mean_absolute_error(y_train, y_train_predlr)\n",
    "mse_lr1 = mean_squared_error(y_train, y_train_predlr)\n",
    "r_lr1 = lr.score(x_train, y_train)\n",
    "print(\"Goodness of Fit of Model \\tTrain Dataset\")\n",
    "print(\"LR: Mean Absolute Error (MAE) \\t:\", mae_lr1)\n",
    "print(\"LR: Mean Squared Error (MSE) \\t:\", mse_lr1)\n",
    "print(\"LR: Explained Variance (R^2) \\t:\", r_lr1)\n",
    "print()\n",
    "\n",
    "mae_lr2 = mean_absolute_error(y_test, y_test_predlr)\n",
    "mse_lr2 = mean_squared_error(y_test, y_test_predlr)\n",
    "r_lr2 = lr.score(x_test, y_test)\n",
    "print(\"Goodness of Fit of Model \\tTest Dataset\")\n",
    "print(\"LR: Mean Absolute Error (MAE) \\t:\", mae_lr2)\n",
    "print(\"LR: Mean Squared Error (MSE) \\t:\", mse_lr2)\n",
    "print(\"LR: Explained Variance (R^2) \\t:\", r_lr2)"
   ]
  },
  {
   "cell_type": "code",
   "execution_count": 42,
   "id": "25ad9bea",
   "metadata": {},
   "outputs": [
    {
     "name": "stdout",
     "output_type": "stream",
     "text": [
      "Goodness of Fit of Model \tTrain Dataset\n",
      "GBR: Mean Absolute Error (MAE) \t: 164.07951061859566\n",
      "GBR: Mean Squared Error (MSE) \t: 48817.348191762554\n",
      "GBR: Explained Variance (R^2) \t: 0.21599438212946576\n",
      "\n",
      "Goodness of Fit of Model \tTest Dataset\n",
      "GBR: Mean Absolute Error (MAE) \t: 164.41710227422888\n",
      "GBR: Mean Squared Error (MSE) \t: 48429.43208742002\n",
      "GBR: Explained Variance (R^2) \t: 0.19204989263548633\n"
     ]
    }
   ],
   "source": [
    "mae_gbr1 = mean_absolute_error(y_train, y_train_predgbr)\n",
    "mse_gbr1 = mean_squared_error(y_train, y_train_predgbr)\n",
    "r_gbr1 = gbr.score(x_train,y_train)\n",
    "print(\"Goodness of Fit of Model \\tTrain Dataset\")\n",
    "print(\"GBR: Mean Absolute Error (MAE) \\t:\", mae_gbr1)\n",
    "print(\"GBR: Mean Squared Error (MSE) \\t:\", mse_gbr1)\n",
    "print(\"GBR: Explained Variance (R^2) \\t:\", r_gbr1)\n",
    "print()\n",
    "\n",
    "mae_gbr2 = mean_absolute_error(y_test, y_test_predgbr)\n",
    "mse_gbr2 = mean_squared_error(y_test, y_test_predgbr)\n",
    "r_gbr2 = gbr.score(x_test, y_test)\n",
    "print(\"Goodness of Fit of Model \\tTest Dataset\")\n",
    "print(\"GBR: Mean Absolute Error (MAE) \\t:\", mae_gbr2)\n",
    "print(\"GBR: Mean Squared Error (MSE) \\t:\", mse_gbr2)\n",
    "print(\"GBR: Explained Variance (R^2) \\t:\", r_gbr2)"
   ]
  },
  {
   "cell_type": "code",
   "execution_count": 43,
   "id": "34abc392",
   "metadata": {},
   "outputs": [
    {
     "name": "stdout",
     "output_type": "stream",
     "text": [
      "Goodness of Fit of Model \tTrain Dataset\n",
      "RF: Mean Absolute Error (MAE) \t: 87.98970685546628\n",
      "RF: Mean Squared Error (MSE) \t: 17513.600095702575\n",
      "RF: Explained Variance (R^2) \t: 0.7187319391001727\n",
      "\n",
      "Goodness of Fit of Model \tTest Dataset\n",
      "RF: Mean Absolute Error (MAE) \t: 163.20209459192958\n",
      "RF: Mean Squared Error (MSE) \t: 52507.375912460564\n",
      "RF: Explained Variance (R^2) \t: 0.12401739650130583\n"
     ]
    }
   ],
   "source": [
    "mae_rf1 = mean_absolute_error(y_train, y_train_predrf)\n",
    "mse_rf1 = mean_squared_error(y_train, y_train_predrf)\n",
    "r_rf1 = rf.score(x_train, y_train)\n",
    "print(\"Goodness of Fit of Model \\tTrain Dataset\")\n",
    "print(\"RF: Mean Absolute Error (MAE) \\t:\", mae_rf1)\n",
    "print(\"RF: Mean Squared Error (MSE) \\t:\", mse_rf1)\n",
    "print(\"RF: Explained Variance (R^2) \\t:\", r_rf1)\n",
    "print()\n",
    "\n",
    "mae_rf2 = mean_absolute_error(y_test, y_test_predrf)\n",
    "mse_rf2 = mean_squared_error(y_test, y_test_predrf)\n",
    "r_rf2 = rf.score(x_test, y_test)\n",
    "print(\"Goodness of Fit of Model \\tTest Dataset\")\n",
    "print(\"RF: Mean Absolute Error (MAE) \\t:\", mae_rf2)\n",
    "print(\"RF: Mean Squared Error (MSE) \\t:\", mse_rf2)\n",
    "print(\"RF: Explained Variance (R^2) \\t:\", r_rf2)"
   ]
  },
  {
   "cell_type": "code",
   "execution_count": 44,
   "id": "d7c2d83b",
   "metadata": {},
   "outputs": [
    {
     "data": {
      "text/html": [
       "<div>\n",
       "<style scoped>\n",
       "    .dataframe tbody tr th:only-of-type {\n",
       "        vertical-align: middle;\n",
       "    }\n",
       "\n",
       "    .dataframe tbody tr th {\n",
       "        vertical-align: top;\n",
       "    }\n",
       "\n",
       "    .dataframe thead th {\n",
       "        text-align: right;\n",
       "    }\n",
       "</style>\n",
       "<table border=\"1\" class=\"dataframe\">\n",
       "  <thead>\n",
       "    <tr style=\"text-align: right;\">\n",
       "      <th></th>\n",
       "      <th>Name</th>\n",
       "      <th>Platform</th>\n",
       "      <th>Year</th>\n",
       "      <th>Genre</th>\n",
       "      <th>Publisher</th>\n",
       "      <th>Global_Sales</th>\n",
       "      <th>encoded_Platform</th>\n",
       "      <th>encoded_Genre</th>\n",
       "      <th>encoded_Publisher</th>\n",
       "    </tr>\n",
       "  </thead>\n",
       "  <tbody>\n",
       "    <tr>\n",
       "      <th>1847</th>\n",
       "      <td>Guitar Hero 5</td>\n",
       "      <td>PS3</td>\n",
       "      <td>2009.0</td>\n",
       "      <td>Misc</td>\n",
       "      <td>Activision</td>\n",
       "      <td>1100.0</td>\n",
       "      <td>19</td>\n",
       "      <td>3</td>\n",
       "      <td>21</td>\n",
       "    </tr>\n",
       "    <tr>\n",
       "      <th>1848</th>\n",
       "      <td>Megamania</td>\n",
       "      <td>Atari2600</td>\n",
       "      <td>1981.0</td>\n",
       "      <td>Shooter</td>\n",
       "      <td>Activision</td>\n",
       "      <td>1100.0</td>\n",
       "      <td>4</td>\n",
       "      <td>8</td>\n",
       "      <td>21</td>\n",
       "    </tr>\n",
       "    <tr>\n",
       "      <th>1851</th>\n",
       "      <td>Jungle Hunt</td>\n",
       "      <td>Atari2600</td>\n",
       "      <td>1982.0</td>\n",
       "      <td>Platform</td>\n",
       "      <td>Atari</td>\n",
       "      <td>1100.0</td>\n",
       "      <td>4</td>\n",
       "      <td>4</td>\n",
       "      <td>53</td>\n",
       "    </tr>\n",
       "    <tr>\n",
       "      <th>16594</th>\n",
       "      <td>Know How 2</td>\n",
       "      <td>DS</td>\n",
       "      <td>2010.0</td>\n",
       "      <td>Puzzle</td>\n",
       "      <td>7G//AMES</td>\n",
       "      <td>10.0</td>\n",
       "      <td>6</td>\n",
       "      <td>5</td>\n",
       "      <td>8</td>\n",
       "    </tr>\n",
       "  </tbody>\n",
       "</table>\n",
       "</div>"
      ],
      "text/plain": [
       "                Name   Platform    Year     Genre   Publisher  Global_Sales  \\\n",
       "1847   Guitar Hero 5        PS3  2009.0      Misc  Activision        1100.0   \n",
       "1848       Megamania  Atari2600  1981.0   Shooter  Activision        1100.0   \n",
       "1851     Jungle Hunt  Atari2600  1982.0  Platform       Atari        1100.0   \n",
       "16594     Know How 2         DS  2010.0    Puzzle    7G//AMES          10.0   \n",
       "\n",
       "       encoded_Platform  encoded_Genre  encoded_Publisher  \n",
       "1847                 19              3                 21  \n",
       "1848                  4              8                 21  \n",
       "1851                  4              4                 53  \n",
       "16594                 6              5                  8  "
      ]
     },
     "execution_count": 44,
     "metadata": {},
     "output_type": "execute_result"
    }
   ],
   "source": [
    "game_pred = newdata[newdata['Name'].isin(['Jungle Hunt', 'Megamania', 'Know How 2', 'Guitar Hero 5'])]\n",
    "game_pred"
   ]
  },
  {
   "cell_type": "code",
   "execution_count": 45,
   "id": "d2e4d8bb",
   "metadata": {},
   "outputs": [
    {
     "data": {
      "text/plain": [
       "array([601.81730159, 449.4       , 842.12      ,  31.31428571])"
      ]
     },
     "execution_count": 45,
     "metadata": {},
     "output_type": "execute_result"
    }
   ],
   "source": [
    "# Extract Predictors for Prediction\n",
    "X_pred = pd.DataFrame(game_pred[pred])\n",
    "\n",
    "# Predict LR Response corresponding to Predictors\n",
    "y_predlr = lr.predict(X_pred)\n",
    "y_predlr\n",
    "\n",
    "# Predict GBR Response corresponding to Predictors\n",
    "y_predgbr = gbr.predict(X_pred)\n",
    "y_predgbr\n",
    "\n",
    "# Predict RF Response corresponding to Predictors\n",
    "y_predrf = rf.predict(X_pred)\n",
    "y_predrf\n"
   ]
  },
  {
   "cell_type": "code",
   "execution_count": 46,
   "id": "81eff103",
   "metadata": {},
   "outputs": [
    {
     "data": {
      "text/html": [
       "<div>\n",
       "<style scoped>\n",
       "    .dataframe tbody tr th:only-of-type {\n",
       "        vertical-align: middle;\n",
       "    }\n",
       "\n",
       "    .dataframe tbody tr th {\n",
       "        vertical-align: top;\n",
       "    }\n",
       "\n",
       "    .dataframe thead th {\n",
       "        text-align: right;\n",
       "    }\n",
       "</style>\n",
       "<table border=\"1\" class=\"dataframe\">\n",
       "  <thead>\n",
       "    <tr style=\"text-align: right;\">\n",
       "      <th></th>\n",
       "      <th>Name</th>\n",
       "      <th>Global_Sales</th>\n",
       "      <th>PredTotal</th>\n",
       "    </tr>\n",
       "  </thead>\n",
       "  <tbody>\n",
       "    <tr>\n",
       "      <th>1847</th>\n",
       "      <td>Guitar Hero 5</td>\n",
       "      <td>1100.0</td>\n",
       "      <td>213.909543</td>\n",
       "    </tr>\n",
       "    <tr>\n",
       "      <th>1848</th>\n",
       "      <td>Megamania</td>\n",
       "      <td>1100.0</td>\n",
       "      <td>349.340969</td>\n",
       "    </tr>\n",
       "    <tr>\n",
       "      <th>1851</th>\n",
       "      <td>Jungle Hunt</td>\n",
       "      <td>1100.0</td>\n",
       "      <td>335.990333</td>\n",
       "    </tr>\n",
       "    <tr>\n",
       "      <th>16594</th>\n",
       "      <td>Know How 2</td>\n",
       "      <td>10.0</td>\n",
       "      <td>174.013059</td>\n",
       "    </tr>\n",
       "  </tbody>\n",
       "</table>\n",
       "</div>"
      ],
      "text/plain": [
       "                Name  Global_Sales   PredTotal\n",
       "1847   Guitar Hero 5        1100.0  213.909543\n",
       "1848       Megamania        1100.0  349.340969\n",
       "1851     Jungle Hunt        1100.0  335.990333\n",
       "16594     Know How 2          10.0  174.013059"
      ]
     },
     "execution_count": 46,
     "metadata": {},
     "output_type": "execute_result"
    }
   ],
   "source": [
    "y_predlr = pd.DataFrame(y_predlr, columns = [\"PredTotal\"], index = game_pred.index)\n",
    "gamedata_acclr = pd.concat([game_pred[[\"Name\", \"Global_Sales\"]], y_predlr], axis = 1)\n",
    "\n",
    "y_errslr = 100 * abs(gamedata_acclr[\"Global_Sales\"] - gamedata_acclr[\"PredTotal\"]) / gamedata_acclr[\"Global_Sales\"]\n",
    "y_errslr = pd.DataFrame(y_errslr, columns = [\"Error\"], index = game_pred.index)\n",
    "game_acclr = pd.concat([gamedata_acclr, y_errslr], axis = 1)\n",
    "\n",
    "gamedata_acclr"
   ]
  },
  {
   "cell_type": "code",
   "execution_count": 47,
   "id": "79fa2538",
   "metadata": {},
   "outputs": [
    {
     "data": {
      "text/html": [
       "<div>\n",
       "<style scoped>\n",
       "    .dataframe tbody tr th:only-of-type {\n",
       "        vertical-align: middle;\n",
       "    }\n",
       "\n",
       "    .dataframe tbody tr th {\n",
       "        vertical-align: top;\n",
       "    }\n",
       "\n",
       "    .dataframe thead th {\n",
       "        text-align: right;\n",
       "    }\n",
       "</style>\n",
       "<table border=\"1\" class=\"dataframe\">\n",
       "  <thead>\n",
       "    <tr style=\"text-align: right;\">\n",
       "      <th></th>\n",
       "      <th>Name</th>\n",
       "      <th>Global_Sales</th>\n",
       "      <th>PredTotal</th>\n",
       "    </tr>\n",
       "  </thead>\n",
       "  <tbody>\n",
       "    <tr>\n",
       "      <th>1847</th>\n",
       "      <td>Guitar Hero 5</td>\n",
       "      <td>1100.0</td>\n",
       "      <td>339.287022</td>\n",
       "    </tr>\n",
       "    <tr>\n",
       "      <th>1848</th>\n",
       "      <td>Megamania</td>\n",
       "      <td>1100.0</td>\n",
       "      <td>525.091840</td>\n",
       "    </tr>\n",
       "    <tr>\n",
       "      <th>1851</th>\n",
       "      <td>Jungle Hunt</td>\n",
       "      <td>1100.0</td>\n",
       "      <td>521.464468</td>\n",
       "    </tr>\n",
       "    <tr>\n",
       "      <th>16594</th>\n",
       "      <td>Know How 2</td>\n",
       "      <td>10.0</td>\n",
       "      <td>63.899746</td>\n",
       "    </tr>\n",
       "  </tbody>\n",
       "</table>\n",
       "</div>"
      ],
      "text/plain": [
       "                Name  Global_Sales   PredTotal\n",
       "1847   Guitar Hero 5        1100.0  339.287022\n",
       "1848       Megamania        1100.0  525.091840\n",
       "1851     Jungle Hunt        1100.0  521.464468\n",
       "16594     Know How 2          10.0   63.899746"
      ]
     },
     "execution_count": 47,
     "metadata": {},
     "output_type": "execute_result"
    }
   ],
   "source": [
    "y_predgbr = pd.DataFrame(y_predgbr, columns = [\"PredTotal\"], index = game_pred.index)\n",
    "gamedata_accgbr = pd.concat([game_pred[[\"Name\", \"Global_Sales\"]], y_predgbr], axis = 1)\n",
    "\n",
    "y_errsgbr = 100 * abs(gamedata_accgbr[\"Global_Sales\"] - gamedata_accgbr[\"PredTotal\"]) / gamedata_accgbr[\"Global_Sales\"]\n",
    "y_errsgbr = pd.DataFrame(y_errsgbr, columns = [\"Error\"], index = game_pred.index)\n",
    "game_accgbr = pd.concat([gamedata_accgbr, y_errsgbr], axis = 1)\n",
    "\n",
    "gamedata_accgbr"
   ]
  },
  {
   "cell_type": "code",
   "execution_count": 48,
   "id": "dce84951",
   "metadata": {},
   "outputs": [
    {
     "data": {
      "text/html": [
       "<div>\n",
       "<style scoped>\n",
       "    .dataframe tbody tr th:only-of-type {\n",
       "        vertical-align: middle;\n",
       "    }\n",
       "\n",
       "    .dataframe tbody tr th {\n",
       "        vertical-align: top;\n",
       "    }\n",
       "\n",
       "    .dataframe thead th {\n",
       "        text-align: right;\n",
       "    }\n",
       "</style>\n",
       "<table border=\"1\" class=\"dataframe\">\n",
       "  <thead>\n",
       "    <tr style=\"text-align: right;\">\n",
       "      <th></th>\n",
       "      <th>Name</th>\n",
       "      <th>Global_Sales</th>\n",
       "      <th>PredTotal</th>\n",
       "    </tr>\n",
       "  </thead>\n",
       "  <tbody>\n",
       "    <tr>\n",
       "      <th>1847</th>\n",
       "      <td>Guitar Hero 5</td>\n",
       "      <td>1100.0</td>\n",
       "      <td>601.817302</td>\n",
       "    </tr>\n",
       "    <tr>\n",
       "      <th>1848</th>\n",
       "      <td>Megamania</td>\n",
       "      <td>1100.0</td>\n",
       "      <td>449.400000</td>\n",
       "    </tr>\n",
       "    <tr>\n",
       "      <th>1851</th>\n",
       "      <td>Jungle Hunt</td>\n",
       "      <td>1100.0</td>\n",
       "      <td>842.120000</td>\n",
       "    </tr>\n",
       "    <tr>\n",
       "      <th>16594</th>\n",
       "      <td>Know How 2</td>\n",
       "      <td>10.0</td>\n",
       "      <td>31.314286</td>\n",
       "    </tr>\n",
       "  </tbody>\n",
       "</table>\n",
       "</div>"
      ],
      "text/plain": [
       "                Name  Global_Sales   PredTotal\n",
       "1847   Guitar Hero 5        1100.0  601.817302\n",
       "1848       Megamania        1100.0  449.400000\n",
       "1851     Jungle Hunt        1100.0  842.120000\n",
       "16594     Know How 2          10.0   31.314286"
      ]
     },
     "execution_count": 48,
     "metadata": {},
     "output_type": "execute_result"
    }
   ],
   "source": [
    "y_predrf = pd.DataFrame(y_predrf, columns = [\"PredTotal\"], index = game_pred.index)\n",
    "gamedata_accrf = pd.concat([game_pred[[\"Name\", \"Global_Sales\"]], y_predrf], axis = 1)\n",
    "\n",
    "y_errsrf = 100 * abs(gamedata_accrf[\"Global_Sales\"] - gamedata_accrf[\"PredTotal\"]) / gamedata_accrf[\"Global_Sales\"]\n",
    "y_errsrf = pd.DataFrame(y_errsrf, columns = [\"Error\"], index = game_pred.index)\n",
    "game_accrf = pd.concat([gamedata_accrf, y_errsrf], axis = 1)\n",
    "\n",
    "gamedata_accrf"
   ]
  },
  {
   "cell_type": "code",
   "execution_count": null,
   "id": "65877cb7",
   "metadata": {},
   "outputs": [],
   "source": []
  },
  {
   "cell_type": "code",
   "execution_count": null,
   "id": "abc19a00",
   "metadata": {},
   "outputs": [],
   "source": []
  },
  {
   "cell_type": "code",
   "execution_count": null,
   "id": "c8dd95f6",
   "metadata": {},
   "outputs": [],
   "source": []
  },
  {
   "cell_type": "code",
   "execution_count": null,
   "id": "e2b0e0d3",
   "metadata": {},
   "outputs": [],
   "source": []
  }
 ],
 "metadata": {
  "kernelspec": {
   "display_name": "Python 3 (ipykernel)",
   "language": "python",
   "name": "python3"
  },
  "language_info": {
   "codemirror_mode": {
    "name": "ipython",
    "version": 3
   },
   "file_extension": ".py",
   "mimetype": "text/x-python",
   "name": "python",
   "nbconvert_exporter": "python",
   "pygments_lexer": "ipython3",
   "version": "3.9.7"
  }
 },
 "nbformat": 4,
 "nbformat_minor": 5
}
