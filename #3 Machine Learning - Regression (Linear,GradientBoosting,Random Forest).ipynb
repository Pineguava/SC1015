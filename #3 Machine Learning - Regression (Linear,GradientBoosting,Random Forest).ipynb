{
 "cells": [
  {
   "cell_type": "code",
   "execution_count": 49,
   "id": "68d8b956",
   "metadata": {},
   "outputs": [],
   "source": [
    "import pandas as pd\n",
    "import pandas_profiling\n",
    "import seaborn as sb\n",
    "import matplotlib.pyplot as plt \n",
    "import numpy as np"
   ]
  },
  {
   "cell_type": "code",
   "execution_count": 50,
   "id": "a5659a3b",
   "metadata": {},
   "outputs": [],
   "source": [
    "rawdata = pd.read_csv('vgsales.csv')"
   ]
  },
  {
   "cell_type": "code",
   "execution_count": 51,
   "id": "a1117de2",
   "metadata": {},
   "outputs": [],
   "source": [
    "data = rawdata.drop(columns = ['Rank', 'NA_Sales', 'EU_Sales', 'JP_Sales', 'Other_Sales'])"
   ]
  },
  {
   "cell_type": "code",
   "execution_count": 52,
   "id": "19c2087c",
   "metadata": {},
   "outputs": [
    {
     "data": {
      "text/html": [
       "<div>\n",
       "<style scoped>\n",
       "    .dataframe tbody tr th:only-of-type {\n",
       "        vertical-align: middle;\n",
       "    }\n",
       "\n",
       "    .dataframe tbody tr th {\n",
       "        vertical-align: top;\n",
       "    }\n",
       "\n",
       "    .dataframe thead th {\n",
       "        text-align: right;\n",
       "    }\n",
       "</style>\n",
       "<table border=\"1\" class=\"dataframe\">\n",
       "  <thead>\n",
       "    <tr style=\"text-align: right;\">\n",
       "      <th></th>\n",
       "      <th>Name</th>\n",
       "      <th>Platform</th>\n",
       "      <th>Year</th>\n",
       "      <th>Genre</th>\n",
       "      <th>Publisher</th>\n",
       "      <th>Global_Sales</th>\n",
       "    </tr>\n",
       "  </thead>\n",
       "  <tbody>\n",
       "    <tr>\n",
       "      <th>0</th>\n",
       "      <td>Wii Sports</td>\n",
       "      <td>Wii</td>\n",
       "      <td>2006.0</td>\n",
       "      <td>Sports</td>\n",
       "      <td>Nintendo</td>\n",
       "      <td>82.74</td>\n",
       "    </tr>\n",
       "    <tr>\n",
       "      <th>1</th>\n",
       "      <td>Super Mario Bros.</td>\n",
       "      <td>NES</td>\n",
       "      <td>1985.0</td>\n",
       "      <td>Platform</td>\n",
       "      <td>Nintendo</td>\n",
       "      <td>40.24</td>\n",
       "    </tr>\n",
       "    <tr>\n",
       "      <th>2</th>\n",
       "      <td>Mario Kart Wii</td>\n",
       "      <td>Wii</td>\n",
       "      <td>2008.0</td>\n",
       "      <td>Racing</td>\n",
       "      <td>Nintendo</td>\n",
       "      <td>35.82</td>\n",
       "    </tr>\n",
       "    <tr>\n",
       "      <th>3</th>\n",
       "      <td>Wii Sports Resort</td>\n",
       "      <td>Wii</td>\n",
       "      <td>2009.0</td>\n",
       "      <td>Sports</td>\n",
       "      <td>Nintendo</td>\n",
       "      <td>33.00</td>\n",
       "    </tr>\n",
       "    <tr>\n",
       "      <th>4</th>\n",
       "      <td>Pokemon Red/Pokemon Blue</td>\n",
       "      <td>GB</td>\n",
       "      <td>1996.0</td>\n",
       "      <td>Role-Playing</td>\n",
       "      <td>Nintendo</td>\n",
       "      <td>31.37</td>\n",
       "    </tr>\n",
       "  </tbody>\n",
       "</table>\n",
       "</div>"
      ],
      "text/plain": [
       "                       Name Platform    Year         Genre Publisher  \\\n",
       "0                Wii Sports      Wii  2006.0        Sports  Nintendo   \n",
       "1         Super Mario Bros.      NES  1985.0      Platform  Nintendo   \n",
       "2            Mario Kart Wii      Wii  2008.0        Racing  Nintendo   \n",
       "3         Wii Sports Resort      Wii  2009.0        Sports  Nintendo   \n",
       "4  Pokemon Red/Pokemon Blue       GB  1996.0  Role-Playing  Nintendo   \n",
       "\n",
       "   Global_Sales  \n",
       "0         82.74  \n",
       "1         40.24  \n",
       "2         35.82  \n",
       "3         33.00  \n",
       "4         31.37  "
      ]
     },
     "execution_count": 52,
     "metadata": {},
     "output_type": "execute_result"
    }
   ],
   "source": [
    "data.head()"
   ]
  },
  {
   "cell_type": "code",
   "execution_count": 53,
   "id": "63513812",
   "metadata": {},
   "outputs": [],
   "source": [
    "from sklearn import preprocessing\n",
    "le = preprocessing.LabelEncoder()\n",
    "\n",
    "platnum = le.fit_transform(data['Platform'])\n",
    "gennum = le.fit_transform(data['Genre'])\n",
    "pubnum = le.fit_transform(data['Publisher'])"
   ]
  },
  {
   "cell_type": "code",
   "execution_count": 54,
   "id": "e471343b",
   "metadata": {},
   "outputs": [
    {
     "name": "stdout",
     "output_type": "stream",
     "text": [
      "                                                   Name Platform    Year  \\\n",
      "0                                            Wii Sports      Wii  2006.0   \n",
      "1                                     Super Mario Bros.      NES  1985.0   \n",
      "2                                        Mario Kart Wii      Wii  2008.0   \n",
      "3                                     Wii Sports Resort      Wii  2009.0   \n",
      "4                              Pokemon Red/Pokemon Blue       GB  1996.0   \n",
      "...                                                 ...      ...     ...   \n",
      "16591                Woody Woodpecker in Crazy Castle 5      GBA  2002.0   \n",
      "16592                     Men in Black II: Alien Escape       GC  2003.0   \n",
      "16593  SCORE International Baja 1000: The Official Game      PS2  2008.0   \n",
      "16594                                        Know How 2       DS  2010.0   \n",
      "16595                                  Spirits & Spells      GBA  2003.0   \n",
      "\n",
      "              Genre   Publisher  Global_Sales  encoded_Platform  \\\n",
      "0            Sports    Nintendo       82740.0                28   \n",
      "1          Platform    Nintendo       40240.0                13   \n",
      "2            Racing    Nintendo       35820.0                28   \n",
      "3            Sports    Nintendo       33000.0                28   \n",
      "4      Role-Playing    Nintendo       31370.0                 7   \n",
      "...             ...         ...           ...               ...   \n",
      "16591      Platform       Kemco          10.0                 8   \n",
      "16592       Shooter  Infogrames          10.0                 9   \n",
      "16593        Racing  Activision          10.0                18   \n",
      "16594        Puzzle    7G//AMES          10.0                 6   \n",
      "16595      Platform     Wanadoo          10.0                 8   \n",
      "\n",
      "       encoded_Genre  encoded_Publisher  \n",
      "0                 10                359  \n",
      "1                  4                359  \n",
      "2                  6                359  \n",
      "3                 10                359  \n",
      "4                  7                359  \n",
      "...              ...                ...  \n",
      "16591              4                269  \n",
      "16592              8                241  \n",
      "16593              6                 21  \n",
      "16594              5                  8  \n",
      "16595              4                546  \n",
      "\n",
      "[16596 rows x 9 columns]\n"
     ]
    }
   ],
   "source": [
    "#encoded_plat = pd.DataFrame(platnum)\n",
    "data['encoded_Platform'] = platnum\n",
    "data['encoded_Genre'] = gennum\n",
    "data['encoded_Publisher'] = pubnum\n",
    "data['Global_Sales'] = data['Global_Sales'].apply(lambda x: x*1000)\n",
    "print(data)\n"
   ]
  },
  {
   "cell_type": "code",
   "execution_count": 58,
   "id": "5aae0610",
   "metadata": {},
   "outputs": [],
   "source": [
    "newdata = data.dropna()\n",
    "\n",
    "target = newdata[['Global_Sales']].copy()\n",
    "\n",
    "Q1 = target.quantile(0.25)\n",
    "Q3 = target.quantile(0.75)\n",
    "\n",
    "rule = ((target<(Q1-1.5*(Q3-Q1))) | (target>(Q3+1.5*(Q3-Q1))))\n",
    "\n",
    "outliers = rule.any(axis = 1)\n",
    "\n",
    "outlierindices = outliers.index[outliers == True]\n",
    "\n",
    "newdata.drop(index=outlierindices, inplace = True)"
   ]
  },
  {
   "cell_type": "code",
   "execution_count": 59,
   "id": "e6796c55",
   "metadata": {},
   "outputs": [],
   "source": [
    "# randomdata = data.dropna()\n",
    "# split train/test\n",
    "\n",
    "# platform = pd.DataFrame(newdata['encoded_Platform'])\n",
    "# year = pd.DataFrame(newdata['Year'])\n",
    "# genre = pd.DataFrame(newdata['encoded_Genre'])\n",
    "# publisher = pd.DataFrame(newdata['encoded_Publisher'])\n",
    "sales = pd.DataFrame(newdata['Global_Sales'])\n",
    "\n",
    "pred = ['encoded_Platform', 'Year', 'encoded_Genre', 'encoded_Publisher']\n",
    "x_data = pd.DataFrame(newdata[pred])\n",
    "\n",
    "from sklearn.model_selection import train_test_split\n",
    "x_train, x_test, y_train, y_test = train_test_split(x_data, sales, test_size = 0.25)"
   ]
  },
  {
   "cell_type": "code",
   "execution_count": 60,
   "id": "01abff22",
   "metadata": {},
   "outputs": [],
   "source": [
    "from sklearn.linear_model import LinearRegression\n",
    "from sklearn.ensemble import GradientBoostingRegressor\n",
    "from sklearn.ensemble import RandomForestRegressor\n",
    "from sklearn.metrics import mean_absolute_error, mean_squared_error"
   ]
  },
  {
   "cell_type": "code",
   "execution_count": 61,
   "id": "553bbb4a",
   "metadata": {},
   "outputs": [
    {
     "data": {
      "text/plain": [
       "LinearRegression()"
      ]
     },
     "execution_count": 61,
     "metadata": {},
     "output_type": "execute_result"
    }
   ],
   "source": [
    "lr = LinearRegression()\n",
    "lr.fit(x_train, y_train)"
   ]
  },
  {
   "cell_type": "code",
   "execution_count": 62,
   "id": "fab78201",
   "metadata": {},
   "outputs": [
    {
     "data": {
      "text/plain": [
       "GradientBoostingRegressor(random_state=42)"
      ]
     },
     "execution_count": 62,
     "metadata": {},
     "output_type": "execute_result"
    }
   ],
   "source": [
    "gbr = GradientBoostingRegressor(random_state = 42)\n",
    "gbr.fit(x_train, y_train.values.ravel())"
   ]
  },
  {
   "cell_type": "code",
   "execution_count": 63,
   "id": "02dac637",
   "metadata": {},
   "outputs": [
    {
     "data": {
      "text/plain": [
       "RandomForestRegressor(random_state=42)"
      ]
     },
     "execution_count": 63,
     "metadata": {},
     "output_type": "execute_result"
    }
   ],
   "source": [
    "rf = RandomForestRegressor(random_state = 42)\n",
    "rf.fit(x_train, y_train.values.ravel())"
   ]
  },
  {
   "cell_type": "code",
   "execution_count": 64,
   "id": "b010768f",
   "metadata": {},
   "outputs": [],
   "source": [
    "y_train_predlr = lr.predict(x_train)\n",
    "y_test_predlr = lr.predict(x_test)"
   ]
  },
  {
   "cell_type": "code",
   "execution_count": 65,
   "id": "84891868",
   "metadata": {},
   "outputs": [],
   "source": [
    "y_train_predgbr = gbr.predict(x_train)\n",
    "y_test_predgbr = gbr.predict(x_test)"
   ]
  },
  {
   "cell_type": "code",
   "execution_count": 66,
   "id": "d636a751",
   "metadata": {},
   "outputs": [],
   "source": [
    "y_train_predrf = rf.predict(x_train)\n",
    "y_test_predrf = rf.predict(x_test)"
   ]
  },
  {
   "cell_type": "code",
   "execution_count": 67,
   "id": "3b56b031",
   "metadata": {},
   "outputs": [
    {
     "name": "stdout",
     "output_type": "stream",
     "text": [
      "Goodness of Fit of Model \tTrain Dataset\n",
      "LR: Mean Absolute Error (MAE) \t: 187.0237539938945\n",
      "LR: Mean Squared Error (MSE) \t: 59970.382656138936\n",
      "LR: Explained Variance (R^2) \t: 0.025935904177879276\n",
      "\n",
      "Goodness of Fit of Model \tTest Dataset\n",
      "LR: Mean Absolute Error (MAE) \t: 189.37036120751964\n",
      "LR: Mean Squared Error (MSE) \t: 60671.070180621835\n",
      "LR: Explained Variance (R^2) \t: 0.021920405259943654\n"
     ]
    }
   ],
   "source": [
    "mae_lr1 = mean_absolute_error(y_train, y_train_predlr)\n",
    "mse_lr1 = mean_squared_error(y_train, y_train_predlr)\n",
    "r_lr1 = lr.score(x_train, y_train)\n",
    "print(\"Goodness of Fit of Model \\tTrain Dataset\")\n",
    "print(\"LR: Mean Absolute Error (MAE) \\t:\", mae_lr1)\n",
    "print(\"LR: Mean Squared Error (MSE) \\t:\", mse_lr1)\n",
    "print(\"LR: Explained Variance (R^2) \\t:\", r_lr1)\n",
    "print()\n",
    "\n",
    "mae_lr2 = mean_absolute_error(y_test, y_test_predlr)\n",
    "mse_lr2 = mean_squared_error(y_test, y_test_predlr)\n",
    "r_lr2 = lr.score(x_test, y_test)\n",
    "print(\"Goodness of Fit of Model \\tTest Dataset\")\n",
    "print(\"LR: Mean Absolute Error (MAE) \\t:\", mae_lr2)\n",
    "print(\"LR: Mean Squared Error (MSE) \\t:\", mse_lr2)\n",
    "print(\"LR: Explained Variance (R^2) \\t:\", r_lr2)"
   ]
  },
  {
   "cell_type": "code",
   "execution_count": 68,
   "id": "25ad9bea",
   "metadata": {},
   "outputs": [
    {
     "name": "stdout",
     "output_type": "stream",
     "text": [
      "Goodness of Fit of Model \tTrain Dataset\n",
      "GBR: Mean Absolute Error (MAE) \t: 162.66298083203003\n",
      "GBR: Mean Squared Error (MSE) \t: 48270.6970726173\n",
      "GBR: Explained Variance (R^2) \t: 0.21596710215539483\n",
      "\n",
      "Goodness of Fit of Model \tTest Dataset\n",
      "GBR: Mean Absolute Error (MAE) \t: 165.66905782819157\n",
      "GBR: Mean Squared Error (MSE) \t: 50048.27631837251\n",
      "GBR: Explained Variance (R^2) \t: 0.19317068788829406\n"
     ]
    }
   ],
   "source": [
    "mae_gbr1 = mean_absolute_error(y_train, y_train_predgbr)\n",
    "mse_gbr1 = mean_squared_error(y_train, y_train_predgbr)\n",
    "r_gbr1 = gbr.score(x_train,y_train)\n",
    "print(\"Goodness of Fit of Model \\tTrain Dataset\")\n",
    "print(\"GBR: Mean Absolute Error (MAE) \\t:\", mae_gbr1)\n",
    "print(\"GBR: Mean Squared Error (MSE) \\t:\", mse_gbr1)\n",
    "print(\"GBR: Explained Variance (R^2) \\t:\", r_gbr1)\n",
    "print()\n",
    "\n",
    "mae_gbr2 = mean_absolute_error(y_test, y_test_predgbr)\n",
    "mse_gbr2 = mean_squared_error(y_test, y_test_predgbr)\n",
    "r_gbr2 = gbr.score(x_test, y_test)\n",
    "print(\"Goodness of Fit of Model \\tTest Dataset\")\n",
    "print(\"GBR: Mean Absolute Error (MAE) \\t:\", mae_gbr2)\n",
    "print(\"GBR: Mean Squared Error (MSE) \\t:\", mse_gbr2)\n",
    "print(\"GBR: Explained Variance (R^2) \\t:\", r_gbr2)"
   ]
  },
  {
   "cell_type": "code",
   "execution_count": 69,
   "id": "34abc392",
   "metadata": {},
   "outputs": [
    {
     "name": "stdout",
     "output_type": "stream",
     "text": [
      "Goodness of Fit of Model \tTrain Dataset\n",
      "RF: Mean Absolute Error (MAE) \t: 87.18183931156851\n",
      "RF: Mean Squared Error (MSE) \t: 17065.019032525663\n",
      "RF: Explained Variance (R^2) \t: 0.7228228068942826\n",
      "\n",
      "Goodness of Fit of Model \tTest Dataset\n",
      "RF: Mean Absolute Error (MAE) \t: 166.3652415129334\n",
      "RF: Mean Squared Error (MSE) \t: 54988.529495242015\n",
      "RF: Explained Variance (R^2) \t: 0.11352876281987634\n"
     ]
    }
   ],
   "source": [
    "mae_rf1 = mean_absolute_error(y_train, y_train_predrf)\n",
    "mse_rf1 = mean_squared_error(y_train, y_train_predrf)\n",
    "r_rf1 = rf.score(x_train, y_train)\n",
    "print(\"Goodness of Fit of Model \\tTrain Dataset\")\n",
    "print(\"RF: Mean Absolute Error (MAE) \\t:\", mae_rf1)\n",
    "print(\"RF: Mean Squared Error (MSE) \\t:\", mse_rf1)\n",
    "print(\"RF: Explained Variance (R^2) \\t:\", r_rf1)\n",
    "print()\n",
    "\n",
    "mae_rf2 = mean_absolute_error(y_test, y_test_predrf)\n",
    "mse_rf2 = mean_squared_error(y_test, y_test_predrf)\n",
    "r_rf2 = rf.score(x_test, y_test)\n",
    "print(\"Goodness of Fit of Model \\tTest Dataset\")\n",
    "print(\"RF: Mean Absolute Error (MAE) \\t:\", mae_rf2)\n",
    "print(\"RF: Mean Squared Error (MSE) \\t:\", mse_rf2)\n",
    "print(\"RF: Explained Variance (R^2) \\t:\", r_rf2)"
   ]
  },
  {
   "cell_type": "code",
   "execution_count": 70,
   "id": "d7c2d83b",
   "metadata": {},
   "outputs": [
    {
     "data": {
      "text/html": [
       "<div>\n",
       "<style scoped>\n",
       "    .dataframe tbody tr th:only-of-type {\n",
       "        vertical-align: middle;\n",
       "    }\n",
       "\n",
       "    .dataframe tbody tr th {\n",
       "        vertical-align: top;\n",
       "    }\n",
       "\n",
       "    .dataframe thead th {\n",
       "        text-align: right;\n",
       "    }\n",
       "</style>\n",
       "<table border=\"1\" class=\"dataframe\">\n",
       "  <thead>\n",
       "    <tr style=\"text-align: right;\">\n",
       "      <th></th>\n",
       "      <th>Name</th>\n",
       "      <th>Platform</th>\n",
       "      <th>Year</th>\n",
       "      <th>Genre</th>\n",
       "      <th>Publisher</th>\n",
       "      <th>Global_Sales</th>\n",
       "      <th>encoded_Platform</th>\n",
       "      <th>encoded_Genre</th>\n",
       "      <th>encoded_Publisher</th>\n",
       "    </tr>\n",
       "  </thead>\n",
       "  <tbody>\n",
       "    <tr>\n",
       "      <th>1847</th>\n",
       "      <td>Guitar Hero 5</td>\n",
       "      <td>PS3</td>\n",
       "      <td>2009.0</td>\n",
       "      <td>Misc</td>\n",
       "      <td>Activision</td>\n",
       "      <td>1100.0</td>\n",
       "      <td>19</td>\n",
       "      <td>3</td>\n",
       "      <td>21</td>\n",
       "    </tr>\n",
       "    <tr>\n",
       "      <th>1848</th>\n",
       "      <td>Megamania</td>\n",
       "      <td>Atari2600</td>\n",
       "      <td>1981.0</td>\n",
       "      <td>Shooter</td>\n",
       "      <td>Activision</td>\n",
       "      <td>1100.0</td>\n",
       "      <td>4</td>\n",
       "      <td>8</td>\n",
       "      <td>21</td>\n",
       "    </tr>\n",
       "    <tr>\n",
       "      <th>1851</th>\n",
       "      <td>Jungle Hunt</td>\n",
       "      <td>Atari2600</td>\n",
       "      <td>1982.0</td>\n",
       "      <td>Platform</td>\n",
       "      <td>Atari</td>\n",
       "      <td>1100.0</td>\n",
       "      <td>4</td>\n",
       "      <td>4</td>\n",
       "      <td>53</td>\n",
       "    </tr>\n",
       "    <tr>\n",
       "      <th>16594</th>\n",
       "      <td>Know How 2</td>\n",
       "      <td>DS</td>\n",
       "      <td>2010.0</td>\n",
       "      <td>Puzzle</td>\n",
       "      <td>7G//AMES</td>\n",
       "      <td>10.0</td>\n",
       "      <td>6</td>\n",
       "      <td>5</td>\n",
       "      <td>8</td>\n",
       "    </tr>\n",
       "  </tbody>\n",
       "</table>\n",
       "</div>"
      ],
      "text/plain": [
       "                Name   Platform    Year     Genre   Publisher  Global_Sales  \\\n",
       "1847   Guitar Hero 5        PS3  2009.0      Misc  Activision        1100.0   \n",
       "1848       Megamania  Atari2600  1981.0   Shooter  Activision        1100.0   \n",
       "1851     Jungle Hunt  Atari2600  1982.0  Platform       Atari        1100.0   \n",
       "16594     Know How 2         DS  2010.0    Puzzle    7G//AMES          10.0   \n",
       "\n",
       "       encoded_Platform  encoded_Genre  encoded_Publisher  \n",
       "1847                 19              3                 21  \n",
       "1848                  4              8                 21  \n",
       "1851                  4              4                 53  \n",
       "16594                 6              5                  8  "
      ]
     },
     "execution_count": 70,
     "metadata": {},
     "output_type": "execute_result"
    }
   ],
   "source": [
    "game_pred = newdata[newdata['Name'].isin(['Jungle Hunt', 'Megamania', 'Know How 2', 'Guitar Hero 5'])]\n",
    "game_pred"
   ]
  },
  {
   "cell_type": "code",
   "execution_count": 71,
   "id": "d2e4d8bb",
   "metadata": {},
   "outputs": [
    {
     "data": {
      "text/plain": [
       "array([675.70865884, 893.55      , 948.31373016,  18.875     ])"
      ]
     },
     "execution_count": 71,
     "metadata": {},
     "output_type": "execute_result"
    }
   ],
   "source": [
    "# Extract Predictors for Prediction\n",
    "X_pred = pd.DataFrame(game_pred[pred])\n",
    "\n",
    "# Predict LR Response corresponding to Predictors\n",
    "y_predlr = lr.predict(X_pred)\n",
    "y_predlr\n",
    "\n",
    "# Predict GBR Response corresponding to Predictors\n",
    "y_predgbr = gbr.predict(X_pred)\n",
    "y_predgbr\n",
    "\n",
    "# Predict RF Response corresponding to Predictors\n",
    "y_predrf = rf.predict(X_pred)\n",
    "y_predrf\n"
   ]
  },
  {
   "cell_type": "code",
   "execution_count": 72,
   "id": "81eff103",
   "metadata": {},
   "outputs": [
    {
     "data": {
      "text/html": [
       "<div>\n",
       "<style scoped>\n",
       "    .dataframe tbody tr th:only-of-type {\n",
       "        vertical-align: middle;\n",
       "    }\n",
       "\n",
       "    .dataframe tbody tr th {\n",
       "        vertical-align: top;\n",
       "    }\n",
       "\n",
       "    .dataframe thead th {\n",
       "        text-align: right;\n",
       "    }\n",
       "</style>\n",
       "<table border=\"1\" class=\"dataframe\">\n",
       "  <thead>\n",
       "    <tr style=\"text-align: right;\">\n",
       "      <th></th>\n",
       "      <th>Name</th>\n",
       "      <th>Global_Sales</th>\n",
       "      <th>PredTotal</th>\n",
       "    </tr>\n",
       "  </thead>\n",
       "  <tbody>\n",
       "    <tr>\n",
       "      <th>1847</th>\n",
       "      <td>Guitar Hero 5</td>\n",
       "      <td>1100.0</td>\n",
       "      <td>215.894234</td>\n",
       "    </tr>\n",
       "    <tr>\n",
       "      <th>1848</th>\n",
       "      <td>Megamania</td>\n",
       "      <td>1100.0</td>\n",
       "      <td>345.838085</td>\n",
       "    </tr>\n",
       "    <tr>\n",
       "      <th>1851</th>\n",
       "      <td>Jungle Hunt</td>\n",
       "      <td>1100.0</td>\n",
       "      <td>331.914469</td>\n",
       "    </tr>\n",
       "    <tr>\n",
       "      <th>16594</th>\n",
       "      <td>Know How 2</td>\n",
       "      <td>10.0</td>\n",
       "      <td>177.221991</td>\n",
       "    </tr>\n",
       "  </tbody>\n",
       "</table>\n",
       "</div>"
      ],
      "text/plain": [
       "                Name  Global_Sales   PredTotal\n",
       "1847   Guitar Hero 5        1100.0  215.894234\n",
       "1848       Megamania        1100.0  345.838085\n",
       "1851     Jungle Hunt        1100.0  331.914469\n",
       "16594     Know How 2          10.0  177.221991"
      ]
     },
     "execution_count": 72,
     "metadata": {},
     "output_type": "execute_result"
    }
   ],
   "source": [
    "y_predlr = pd.DataFrame(y_predlr, columns = [\"PredTotal\"], index = game_pred.index)\n",
    "gamedata_acclr = pd.concat([game_pred[[\"Name\", \"Global_Sales\"]], y_predlr], axis = 1)\n",
    "\n",
    "y_errslr = 100 * abs(gamedata_acclr[\"Global_Sales\"] - gamedata_acclr[\"PredTotal\"]) / gamedata_acclr[\"Global_Sales\"]\n",
    "y_errslr = pd.DataFrame(y_errslr, columns = [\"Error\"], index = game_pred.index)\n",
    "game_acclr = pd.concat([gamedata_acclr, y_errslr], axis = 1)\n",
    "\n",
    "gamedata_acclr"
   ]
  },
  {
   "cell_type": "code",
   "execution_count": 73,
   "id": "79fa2538",
   "metadata": {},
   "outputs": [
    {
     "data": {
      "text/html": [
       "<div>\n",
       "<style scoped>\n",
       "    .dataframe tbody tr th:only-of-type {\n",
       "        vertical-align: middle;\n",
       "    }\n",
       "\n",
       "    .dataframe tbody tr th {\n",
       "        vertical-align: top;\n",
       "    }\n",
       "\n",
       "    .dataframe thead th {\n",
       "        text-align: right;\n",
       "    }\n",
       "</style>\n",
       "<table border=\"1\" class=\"dataframe\">\n",
       "  <thead>\n",
       "    <tr style=\"text-align: right;\">\n",
       "      <th></th>\n",
       "      <th>Name</th>\n",
       "      <th>Global_Sales</th>\n",
       "      <th>PredTotal</th>\n",
       "    </tr>\n",
       "  </thead>\n",
       "  <tbody>\n",
       "    <tr>\n",
       "      <th>1847</th>\n",
       "      <td>Guitar Hero 5</td>\n",
       "      <td>1100.0</td>\n",
       "      <td>339.641652</td>\n",
       "    </tr>\n",
       "    <tr>\n",
       "      <th>1848</th>\n",
       "      <td>Megamania</td>\n",
       "      <td>1100.0</td>\n",
       "      <td>548.895434</td>\n",
       "    </tr>\n",
       "    <tr>\n",
       "      <th>1851</th>\n",
       "      <td>Jungle Hunt</td>\n",
       "      <td>1100.0</td>\n",
       "      <td>530.540456</td>\n",
       "    </tr>\n",
       "    <tr>\n",
       "      <th>16594</th>\n",
       "      <td>Know How 2</td>\n",
       "      <td>10.0</td>\n",
       "      <td>54.984387</td>\n",
       "    </tr>\n",
       "  </tbody>\n",
       "</table>\n",
       "</div>"
      ],
      "text/plain": [
       "                Name  Global_Sales   PredTotal\n",
       "1847   Guitar Hero 5        1100.0  339.641652\n",
       "1848       Megamania        1100.0  548.895434\n",
       "1851     Jungle Hunt        1100.0  530.540456\n",
       "16594     Know How 2          10.0   54.984387"
      ]
     },
     "execution_count": 73,
     "metadata": {},
     "output_type": "execute_result"
    }
   ],
   "source": [
    "y_predgbr = pd.DataFrame(y_predgbr, columns = [\"PredTotal\"], index = game_pred.index)\n",
    "gamedata_accgbr = pd.concat([game_pred[[\"Name\", \"Global_Sales\"]], y_predgbr], axis = 1)\n",
    "\n",
    "y_errsgbr = 100 * abs(gamedata_accgbr[\"Global_Sales\"] - gamedata_accgbr[\"PredTotal\"]) / gamedata_accgbr[\"Global_Sales\"]\n",
    "y_errsgbr = pd.DataFrame(y_errsgbr, columns = [\"Error\"], index = game_pred.index)\n",
    "game_accgbr = pd.concat([gamedata_accgbr, y_errsgbr], axis = 1)\n",
    "\n",
    "gamedata_accgbr"
   ]
  },
  {
   "cell_type": "code",
   "execution_count": 74,
   "id": "dce84951",
   "metadata": {},
   "outputs": [
    {
     "data": {
      "text/html": [
       "<div>\n",
       "<style scoped>\n",
       "    .dataframe tbody tr th:only-of-type {\n",
       "        vertical-align: middle;\n",
       "    }\n",
       "\n",
       "    .dataframe tbody tr th {\n",
       "        vertical-align: top;\n",
       "    }\n",
       "\n",
       "    .dataframe thead th {\n",
       "        text-align: right;\n",
       "    }\n",
       "</style>\n",
       "<table border=\"1\" class=\"dataframe\">\n",
       "  <thead>\n",
       "    <tr style=\"text-align: right;\">\n",
       "      <th></th>\n",
       "      <th>Name</th>\n",
       "      <th>Global_Sales</th>\n",
       "      <th>PredTotal</th>\n",
       "    </tr>\n",
       "  </thead>\n",
       "  <tbody>\n",
       "    <tr>\n",
       "      <th>1847</th>\n",
       "      <td>Guitar Hero 5</td>\n",
       "      <td>1100.0</td>\n",
       "      <td>675.708659</td>\n",
       "    </tr>\n",
       "    <tr>\n",
       "      <th>1848</th>\n",
       "      <td>Megamania</td>\n",
       "      <td>1100.0</td>\n",
       "      <td>893.550000</td>\n",
       "    </tr>\n",
       "    <tr>\n",
       "      <th>1851</th>\n",
       "      <td>Jungle Hunt</td>\n",
       "      <td>1100.0</td>\n",
       "      <td>948.313730</td>\n",
       "    </tr>\n",
       "    <tr>\n",
       "      <th>16594</th>\n",
       "      <td>Know How 2</td>\n",
       "      <td>10.0</td>\n",
       "      <td>18.875000</td>\n",
       "    </tr>\n",
       "  </tbody>\n",
       "</table>\n",
       "</div>"
      ],
      "text/plain": [
       "                Name  Global_Sales   PredTotal\n",
       "1847   Guitar Hero 5        1100.0  675.708659\n",
       "1848       Megamania        1100.0  893.550000\n",
       "1851     Jungle Hunt        1100.0  948.313730\n",
       "16594     Know How 2          10.0   18.875000"
      ]
     },
     "execution_count": 74,
     "metadata": {},
     "output_type": "execute_result"
    }
   ],
   "source": [
    "y_predrf = pd.DataFrame(y_predrf, columns = [\"PredTotal\"], index = game_pred.index)\n",
    "gamedata_accrf = pd.concat([game_pred[[\"Name\", \"Global_Sales\"]], y_predrf], axis = 1)\n",
    "\n",
    "y_errsrf = 100 * abs(gamedata_accrf[\"Global_Sales\"] - gamedata_accrf[\"PredTotal\"]) / gamedata_accrf[\"Global_Sales\"]\n",
    "y_errsrf = pd.DataFrame(y_errsrf, columns = [\"Error\"], index = game_pred.index)\n",
    "game_accrf = pd.concat([gamedata_accrf, y_errsrf], axis = 1)\n",
    "\n",
    "gamedata_accrf"
   ]
  },
  {
   "cell_type": "code",
   "execution_count": null,
   "id": "65877cb7",
   "metadata": {},
   "outputs": [],
   "source": []
  },
  {
   "cell_type": "code",
   "execution_count": null,
   "id": "abc19a00",
   "metadata": {},
   "outputs": [],
   "source": []
  },
  {
   "cell_type": "code",
   "execution_count": null,
   "id": "c8dd95f6",
   "metadata": {},
   "outputs": [],
   "source": []
  },
  {
   "cell_type": "code",
   "execution_count": null,
   "id": "e2b0e0d3",
   "metadata": {},
   "outputs": [],
   "source": []
  }
 ],
 "metadata": {
  "kernelspec": {
   "display_name": "Python 3 (ipykernel)",
   "language": "python",
   "name": "python3"
  },
  "language_info": {
   "codemirror_mode": {
    "name": "ipython",
    "version": 3
   },
   "file_extension": ".py",
   "mimetype": "text/x-python",
   "name": "python",
   "nbconvert_exporter": "python",
   "pygments_lexer": "ipython3",
   "version": "3.9.7"
  }
 },
 "nbformat": 4,
 "nbformat_minor": 5
}
