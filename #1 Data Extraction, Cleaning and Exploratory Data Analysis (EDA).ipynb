{
 "cells": [
  {
   "cell_type": "markdown",
   "id": "f5372514",
   "metadata": {},
   "source": [
    "# Split data"
   ]
  },
  {
   "cell_type": "code",
   "execution_count": null,
   "id": "8e45de12",
   "metadata": {},
   "outputs": [],
   "source": []
  },
  {
   "cell_type": "code",
   "execution_count": 98,
   "id": "7474ab67",
   "metadata": {},
   "outputs": [],
   "source": [
    "sales = pd.DataFrame(newdata['Global_Sales'])\n",
    "\n",
    "pred = ['encoded_Platform', 'Year', 'encoded_Genre', 'encoded_Publisher']\n",
    "x_data = pd.DataFrame(newdata[pred])\n",
    "\n",
    "from sklearn.model_selection import train_test_split\n",
    "x_train, x_test, y_train, y_test = train_test_split(x_data, sales, test_size = 0.25)"
   ]
  },
  {
   "cell_type": "code",
   "execution_count": null,
   "id": "a3aa1edb",
   "metadata": {},
   "outputs": [],
   "source": []
  },
  {
   "cell_type": "code",
   "execution_count": null,
   "id": "18bf27dd",
   "metadata": {},
   "outputs": [],
   "source": []
  },
  {
   "cell_type": "markdown",
   "id": "f524a70b",
   "metadata": {},
   "source": [
    "# Model building"
   ]
  },
  {
   "cell_type": "code",
   "execution_count": 99,
   "id": "7e58b903",
   "metadata": {},
   "outputs": [],
   "source": [
    "from sklearn.linear_model import LinearRegression\n",
    "from sklearn.ensemble import GradientBoostingRegressor\n",
    "from sklearn.ensemble import RandomForestRegressor\n",
    "from sklearn.metrics import mean_absolute_error, mean_squared_error"
   ]
  },
  {
   "cell_type": "code",
   "execution_count": 100,
   "id": "6ef950ff",
   "metadata": {},
   "outputs": [
    {
     "data": {
      "text/plain": [
       "LinearRegression()"
      ]
     },
     "execution_count": 100,
     "metadata": {},
     "output_type": "execute_result"
    }
   ],
   "source": [
    "lr = LinearRegression()\n",
    "lr.fit(x_train, y_train)"
   ]
  },
  {
   "cell_type": "code",
   "execution_count": 101,
   "id": "c77719f5",
   "metadata": {},
   "outputs": [
    {
     "data": {
      "text/plain": [
       "GradientBoostingRegressor(random_state=42)"
      ]
     },
     "execution_count": 101,
     "metadata": {},
     "output_type": "execute_result"
    }
   ],
   "source": [
    "gbr = GradientBoostingRegressor(random_state = 42)\n",
    "gbr.fit(x_train, y_train.values.ravel())"
   ]
  },
  {
   "cell_type": "code",
   "execution_count": 102,
   "id": "47ebbeec",
   "metadata": {},
   "outputs": [
    {
     "data": {
      "text/plain": [
       "RandomForestRegressor(random_state=42)"
      ]
     },
     "execution_count": 102,
     "metadata": {},
     "output_type": "execute_result"
    }
   ],
   "source": [
    "rf = RandomForestRegressor(random_state = 42)\n",
    "rf.fit(x_train, y_train.values.ravel())"
   ]
  },
  {
   "cell_type": "code",
   "execution_count": 103,
   "id": "2b66c85f",
   "metadata": {},
   "outputs": [],
   "source": [
    "y_train_predlr = lr.predict(x_train)\n",
    "y_test_predlr = lr.predict(x_test)"
   ]
  },
  {
   "cell_type": "code",
   "execution_count": 104,
   "id": "5ec6261d",
   "metadata": {},
   "outputs": [],
   "source": [
    "y_train_predgbr = gbr.predict(x_train)\n",
    "y_test_predgbr = gbr.predict(x_test)"
   ]
  },
  {
   "cell_type": "code",
   "execution_count": 105,
   "id": "b4bb774d",
   "metadata": {},
   "outputs": [],
   "source": [
    "y_train_predrf = rf.predict(x_train)\n",
    "y_test_predrf = rf.predict(x_test)"
   ]
  },
  {
   "cell_type": "code",
   "execution_count": 106,
   "id": "48cb2680",
   "metadata": {},
   "outputs": [
    {
     "name": "stdout",
     "output_type": "stream",
     "text": [
      "Goodness of Fit of Model \tTrain Dataset\n",
      "LR: Mean Absolute Error (MAE) \t: 186.9406885205486\n",
      "LR: Mean Squared Error (MSE) \t: 59679.550341333954\n",
      "LR: Explained Variance (R^2) \t: 0.02748711090588918\n",
      "\n",
      "Goodness of Fit of Model \tTest Dataset\n",
      "LR: Mean Absolute Error (MAE) \t: 190.10513148858502\n",
      "LR: Mean Squared Error (MSE) \t: 61511.939529926145\n",
      "LR: Explained Variance (R^2) \t: 0.01801954068816769\n"
     ]
    }
   ],
   "source": [
    "mae_lr1 = mean_absolute_error(y_train, y_train_predlr)\n",
    "mse_lr1 = mean_squared_error(y_train, y_train_predlr)\n",
    "r_lr1 = lr.score(x_train, y_train)\n",
    "print(\"Goodness of Fit of Model \\tTrain Dataset\")\n",
    "print(\"LR: Mean Absolute Error (MAE) \\t:\", mae_lr1)\n",
    "print(\"LR: Mean Squared Error (MSE) \\t:\", mse_lr1)\n",
    "print(\"LR: Explained Variance (R^2) \\t:\", r_lr1)\n",
    "print()\n",
    "\n",
    "mae_lr2 = mean_absolute_error(y_test, y_test_predlr)\n",
    "mse_lr2 = mean_squared_error(y_test, y_test_predlr)\n",
    "r_lr2 = lr.score(x_test, y_test)\n",
    "print(\"Goodness of Fit of Model \\tTest Dataset\")\n",
    "print(\"LR: Mean Absolute Error (MAE) \\t:\", mae_lr2)\n",
    "print(\"LR: Mean Squared Error (MSE) \\t:\", mse_lr2)\n",
    "print(\"LR: Explained Variance (R^2) \\t:\", r_lr2)"
   ]
  },
  {
   "cell_type": "code",
   "execution_count": null,
   "id": "d9bc7fbe",
   "metadata": {},
   "outputs": [],
   "source": []
  },
  {
   "cell_type": "code",
   "execution_count": 107,
   "id": "53fe2095",
   "metadata": {
    "scrolled": true
   },
   "outputs": [
    {
     "name": "stdout",
     "output_type": "stream",
     "text": [
      "Goodness of Fit of Model \tTrain Dataset\n",
      "GBR: Mean Absolute Error (MAE) \t: 161.7392549061337\n",
      "GBR: Mean Squared Error (MSE) \t: 47733.56497739404\n",
      "GBR: Explained Variance (R^2) \t: 0.22215387151173804\n",
      "\n",
      "Goodness of Fit of Model \tTest Dataset\n",
      "GBR: Mean Absolute Error (MAE) \t: 169.06495877666904\n",
      "GBR: Mean Squared Error (MSE) \t: 50895.83542433594\n",
      "GBR: Explained Variance (R^2) \t: 0.18749569223494056\n"
     ]
    }
   ],
   "source": [
    "mae_gbr1 = mean_absolute_error(y_train, y_train_predgbr)\n",
    "mse_gbr1 = mean_squared_error(y_train, y_train_predgbr)\n",
    "r_gbr1 = gbr.score(x_train,y_train)\n",
    "print(\"Goodness of Fit of Model \\tTrain Dataset\")\n",
    "print(\"GBR: Mean Absolute Error (MAE) \\t:\", mae_gbr1)\n",
    "print(\"GBR: Mean Squared Error (MSE) \\t:\", mse_gbr1)\n",
    "print(\"GBR: Explained Variance (R^2) \\t:\", r_gbr1)\n",
    "print()\n",
    "\n",
    "mae_gbr2 = mean_absolute_error(y_test, y_test_predgbr)\n",
    "mse_gbr2 = mean_squared_error(y_test, y_test_predgbr)\n",
    "r_gbr2 = gbr.score(x_test, y_test)\n",
    "print(\"Goodness of Fit of Model \\tTest Dataset\")\n",
    "print(\"GBR: Mean Absolute Error (MAE) \\t:\", mae_gbr2)\n",
    "print(\"GBR: Mean Squared Error (MSE) \\t:\", mse_gbr2)\n",
    "print(\"GBR: Explained Variance (R^2) \\t:\", r_gbr2)"
   ]
  },
  {
   "cell_type": "code",
   "execution_count": 108,
   "id": "6d731bae",
   "metadata": {},
   "outputs": [
    {
     "name": "stdout",
     "output_type": "stream",
     "text": [
      "Goodness of Fit of Model \tTrain Dataset\n",
      "RF: Mean Absolute Error (MAE) \t: 85.3625140816884\n",
      "RF: Mean Squared Error (MSE) \t: 16545.889440446488\n",
      "RF: Explained Variance (R^2) \t: 0.7303751343579461\n",
      "\n",
      "Goodness of Fit of Model \tTrain Dataset\n",
      "RF: Mean Absolute Error (MAE) \t: 171.89298305468458\n",
      "RF: Mean Squared Error (MSE) \t: 57682.51089895985\n",
      "RF: Explained Variance (R^2) \t: 0.07915277944921628\n"
     ]
    }
   ],
   "source": [
    "mae_rf1 = mean_absolute_error(y_train, y_train_predrf)\n",
    "mse_rf1 = mean_squared_error(y_train, y_train_predrf)\n",
    "r_rf1 = rf.score(x_train, y_train)\n",
    "print(\"Goodness of Fit of Model \\tTrain Dataset\")\n",
    "print(\"RF: Mean Absolute Error (MAE) \\t:\", mae_rf1)\n",
    "print(\"RF: Mean Squared Error (MSE) \\t:\", mse_rf1)\n",
    "print(\"RF: Explained Variance (R^2) \\t:\", r_rf1)\n",
    "print()\n",
    "\n",
    "mae_rf2 = mean_absolute_error(y_test, y_test_predrf)\n",
    "mse_rf2 = mean_squared_error(y_test, y_test_predrf)\n",
    "r_rf2 = rf.score(x_test, y_test)\n",
    "print(\"Goodness of Fit of Model \\tTrain Dataset\")\n",
    "print(\"RF: Mean Absolute Error (MAE) \\t:\", mae_rf2)\n",
    "print(\"RF: Mean Squared Error (MSE) \\t:\", mse_rf2)\n",
    "print(\"RF: Explained Variance (R^2) \\t:\", r_rf2)"
   ]
  },
  {
   "cell_type": "code",
   "execution_count": null,
   "id": "a74e8be3",
   "metadata": {},
   "outputs": [],
   "source": []
  },
  {
   "cell_type": "markdown",
   "id": "95601d35",
   "metadata": {},
   "source": [
    "# Prediction"
   ]
  },
  {
   "cell_type": "code",
   "execution_count": 109,
   "id": "ae693ab4",
   "metadata": {},
   "outputs": [
    {
     "data": {
      "text/html": [
       "<div>\n",
       "<style scoped>\n",
       "    .dataframe tbody tr th:only-of-type {\n",
       "        vertical-align: middle;\n",
       "    }\n",
       "\n",
       "    .dataframe tbody tr th {\n",
       "        vertical-align: top;\n",
       "    }\n",
       "\n",
       "    .dataframe thead th {\n",
       "        text-align: right;\n",
       "    }\n",
       "</style>\n",
       "<table border=\"1\" class=\"dataframe\">\n",
       "  <thead>\n",
       "    <tr style=\"text-align: right;\">\n",
       "      <th></th>\n",
       "      <th>Name</th>\n",
       "      <th>Platform</th>\n",
       "      <th>Year</th>\n",
       "      <th>Genre</th>\n",
       "      <th>Publisher</th>\n",
       "      <th>Global_Sales</th>\n",
       "      <th>encoded_Platform</th>\n",
       "      <th>encoded_Genre</th>\n",
       "      <th>encoded_Publisher</th>\n",
       "      <th>encoded_Year</th>\n",
       "    </tr>\n",
       "  </thead>\n",
       "  <tbody>\n",
       "    <tr>\n",
       "      <th>1848</th>\n",
       "      <td>Megamania</td>\n",
       "      <td>2600</td>\n",
       "      <td>1981</td>\n",
       "      <td>Shooter</td>\n",
       "      <td>Activision</td>\n",
       "      <td>1100.0</td>\n",
       "      <td>2</td>\n",
       "      <td>9</td>\n",
       "      <td>22</td>\n",
       "      <td>1</td>\n",
       "    </tr>\n",
       "    <tr>\n",
       "      <th>1851</th>\n",
       "      <td>Jungle Hunt</td>\n",
       "      <td>2600</td>\n",
       "      <td>1982</td>\n",
       "      <td>Platform</td>\n",
       "      <td>Atari</td>\n",
       "      <td>1100.0</td>\n",
       "      <td>2</td>\n",
       "      <td>5</td>\n",
       "      <td>54</td>\n",
       "      <td>2</td>\n",
       "    </tr>\n",
       "    <tr>\n",
       "      <th>1847</th>\n",
       "      <td>Guitar Hero 5</td>\n",
       "      <td>PS3</td>\n",
       "      <td>2009</td>\n",
       "      <td>Misc</td>\n",
       "      <td>Activision</td>\n",
       "      <td>1100.0</td>\n",
       "      <td>19</td>\n",
       "      <td>4</td>\n",
       "      <td>22</td>\n",
       "      <td>29</td>\n",
       "    </tr>\n",
       "    <tr>\n",
       "      <th>16596</th>\n",
       "      <td>Know How 2</td>\n",
       "      <td>DS</td>\n",
       "      <td>2010</td>\n",
       "      <td>Puzzle</td>\n",
       "      <td>7G//AMES</td>\n",
       "      <td>10.0</td>\n",
       "      <td>6</td>\n",
       "      <td>6</td>\n",
       "      <td>9</td>\n",
       "      <td>30</td>\n",
       "    </tr>\n",
       "  </tbody>\n",
       "</table>\n",
       "</div>"
      ],
      "text/plain": [
       "                Name Platform  Year     Genre   Publisher  Global_Sales  \\\n",
       "1848       Megamania     2600  1981   Shooter  Activision        1100.0   \n",
       "1851     Jungle Hunt     2600  1982  Platform       Atari        1100.0   \n",
       "1847   Guitar Hero 5      PS3  2009      Misc  Activision        1100.0   \n",
       "16596     Know How 2       DS  2010    Puzzle    7G//AMES          10.0   \n",
       "\n",
       "       encoded_Platform  encoded_Genre  encoded_Publisher  encoded_Year  \n",
       "1848                  2              9                 22             1  \n",
       "1851                  2              5                 54             2  \n",
       "1847                 19              4                 22            29  \n",
       "16596                 6              6                  9            30  "
      ]
     },
     "execution_count": 109,
     "metadata": {},
     "output_type": "execute_result"
    }
   ],
   "source": [
    "game_pred = newdata[newdata['Name'].isin(['Jungle Hunt', 'Megamania', 'Know How 2', 'Guitar Hero 5'])]\n",
    "game_pred"
   ]
  },
  {
   "cell_type": "code",
   "execution_count": 110,
   "id": "f75f29cb",
   "metadata": {},
   "outputs": [
    {
     "data": {
      "text/plain": [
       "array([809.9       , 950.12333333, 733.69186147,  17.8       ])"
      ]
     },
     "execution_count": 110,
     "metadata": {},
     "output_type": "execute_result"
    }
   ],
   "source": [
    "# Extract Predictors for Prediction\n",
    "X_pred = pd.DataFrame(game_pred[pred])\n",
    "\n",
    "# Predict LR Response corresponding to Predictors\n",
    "y_predlr = lr.predict(X_pred)\n",
    "y_predlr\n",
    "\n",
    "# Predict GBR Response corresponding to Predictors\n",
    "y_predgbr = gbr.predict(X_pred)\n",
    "y_predgbr\n",
    "\n",
    "# Predict RF Response corresponding to Predictors\n",
    "y_predrf = rf.predict(X_pred)\n",
    "y_predrf"
   ]
  },
  {
   "cell_type": "code",
   "execution_count": 111,
   "id": "353d95d0",
   "metadata": {},
   "outputs": [
    {
     "data": {
      "text/html": [
       "<div>\n",
       "<style scoped>\n",
       "    .dataframe tbody tr th:only-of-type {\n",
       "        vertical-align: middle;\n",
       "    }\n",
       "\n",
       "    .dataframe tbody tr th {\n",
       "        vertical-align: top;\n",
       "    }\n",
       "\n",
       "    .dataframe thead th {\n",
       "        text-align: right;\n",
       "    }\n",
       "</style>\n",
       "<table border=\"1\" class=\"dataframe\">\n",
       "  <thead>\n",
       "    <tr style=\"text-align: right;\">\n",
       "      <th></th>\n",
       "      <th>Name</th>\n",
       "      <th>Global_Sales</th>\n",
       "      <th>PredTotal</th>\n",
       "    </tr>\n",
       "  </thead>\n",
       "  <tbody>\n",
       "    <tr>\n",
       "      <th>1848</th>\n",
       "      <td>Megamania</td>\n",
       "      <td>1100.0</td>\n",
       "      <td>341.207645</td>\n",
       "    </tr>\n",
       "    <tr>\n",
       "      <th>1851</th>\n",
       "      <td>Jungle Hunt</td>\n",
       "      <td>1100.0</td>\n",
       "      <td>330.518332</td>\n",
       "    </tr>\n",
       "    <tr>\n",
       "      <th>1847</th>\n",
       "      <td>Guitar Hero 5</td>\n",
       "      <td>1100.0</td>\n",
       "      <td>214.692994</td>\n",
       "    </tr>\n",
       "    <tr>\n",
       "      <th>16596</th>\n",
       "      <td>Know How 2</td>\n",
       "      <td>10.0</td>\n",
       "      <td>171.915635</td>\n",
       "    </tr>\n",
       "  </tbody>\n",
       "</table>\n",
       "</div>"
      ],
      "text/plain": [
       "                Name  Global_Sales   PredTotal\n",
       "1848       Megamania        1100.0  341.207645\n",
       "1851     Jungle Hunt        1100.0  330.518332\n",
       "1847   Guitar Hero 5        1100.0  214.692994\n",
       "16596     Know How 2          10.0  171.915635"
      ]
     },
     "execution_count": 111,
     "metadata": {},
     "output_type": "execute_result"
    }
   ],
   "source": [
    "y_predlr = pd.DataFrame(y_predlr, columns = [\"PredTotal\"], index = game_pred.index)\n",
    "gamedata_acclr = pd.concat([game_pred[[\"Name\", \"Global_Sales\"]], y_predlr], axis = 1)\n",
    "\n",
    "y_errslr = 100 * abs(gamedata_acclr[\"Global_Sales\"] - gamedata_acclr[\"PredTotal\"]) / gamedata_acclr[\"Global_Sales\"]\n",
    "y_errslr = pd.DataFrame(y_errslr, columns = [\"Error\"], index = game_pred.index)\n",
    "game_acclr = pd.concat([gamedata_acclr, y_errslr], axis = 1)\n",
    "\n",
    "gamedata_acclr"
   ]
  },
  {
   "cell_type": "code",
   "execution_count": 112,
   "id": "d76d5ebc",
   "metadata": {},
   "outputs": [
    {
     "data": {
      "text/html": [
       "<div>\n",
       "<style scoped>\n",
       "    .dataframe tbody tr th:only-of-type {\n",
       "        vertical-align: middle;\n",
       "    }\n",
       "\n",
       "    .dataframe tbody tr th {\n",
       "        vertical-align: top;\n",
       "    }\n",
       "\n",
       "    .dataframe thead th {\n",
       "        text-align: right;\n",
       "    }\n",
       "</style>\n",
       "<table border=\"1\" class=\"dataframe\">\n",
       "  <thead>\n",
       "    <tr style=\"text-align: right;\">\n",
       "      <th></th>\n",
       "      <th>Name</th>\n",
       "      <th>Global_Sales</th>\n",
       "      <th>PredTotal</th>\n",
       "    </tr>\n",
       "  </thead>\n",
       "  <tbody>\n",
       "    <tr>\n",
       "      <th>1848</th>\n",
       "      <td>Megamania</td>\n",
       "      <td>1100.0</td>\n",
       "      <td>577.970499</td>\n",
       "    </tr>\n",
       "    <tr>\n",
       "      <th>1851</th>\n",
       "      <td>Jungle Hunt</td>\n",
       "      <td>1100.0</td>\n",
       "      <td>601.505439</td>\n",
       "    </tr>\n",
       "    <tr>\n",
       "      <th>1847</th>\n",
       "      <td>Guitar Hero 5</td>\n",
       "      <td>1100.0</td>\n",
       "      <td>352.147298</td>\n",
       "    </tr>\n",
       "    <tr>\n",
       "      <th>16596</th>\n",
       "      <td>Know How 2</td>\n",
       "      <td>10.0</td>\n",
       "      <td>102.859196</td>\n",
       "    </tr>\n",
       "  </tbody>\n",
       "</table>\n",
       "</div>"
      ],
      "text/plain": [
       "                Name  Global_Sales   PredTotal\n",
       "1848       Megamania        1100.0  577.970499\n",
       "1851     Jungle Hunt        1100.0  601.505439\n",
       "1847   Guitar Hero 5        1100.0  352.147298\n",
       "16596     Know How 2          10.0  102.859196"
      ]
     },
     "execution_count": 112,
     "metadata": {},
     "output_type": "execute_result"
    }
   ],
   "source": [
    "y_predgbr = pd.DataFrame(y_predgbr, columns = [\"PredTotal\"], index = game_pred.index)\n",
    "gamedata_accgbr = pd.concat([game_pred[[\"Name\", \"Global_Sales\"]], y_predgbr], axis = 1)\n",
    "\n",
    "y_errsgbr = 100 * abs(gamedata_accgbr[\"Global_Sales\"] - gamedata_accgbr[\"PredTotal\"]) / gamedata_accgbr[\"Global_Sales\"]\n",
    "y_errsgbr = pd.DataFrame(y_errsgbr, columns = [\"Error\"], index = game_pred.index)\n",
    "game_accgbr = pd.concat([gamedata_accgbr, y_errsgbr], axis = 1)\n",
    "\n",
    "gamedata_accgbr"
   ]
  },
  {
   "cell_type": "code",
   "execution_count": 113,
   "id": "ca304888",
   "metadata": {},
   "outputs": [
    {
     "data": {
      "text/html": [
       "<div>\n",
       "<style scoped>\n",
       "    .dataframe tbody tr th:only-of-type {\n",
       "        vertical-align: middle;\n",
       "    }\n",
       "\n",
       "    .dataframe tbody tr th {\n",
       "        vertical-align: top;\n",
       "    }\n",
       "\n",
       "    .dataframe thead th {\n",
       "        text-align: right;\n",
       "    }\n",
       "</style>\n",
       "<table border=\"1\" class=\"dataframe\">\n",
       "  <thead>\n",
       "    <tr style=\"text-align: right;\">\n",
       "      <th></th>\n",
       "      <th>Name</th>\n",
       "      <th>Global_Sales</th>\n",
       "      <th>PredTotal</th>\n",
       "    </tr>\n",
       "  </thead>\n",
       "  <tbody>\n",
       "    <tr>\n",
       "      <th>1848</th>\n",
       "      <td>Megamania</td>\n",
       "      <td>1100.0</td>\n",
       "      <td>809.900000</td>\n",
       "    </tr>\n",
       "    <tr>\n",
       "      <th>1851</th>\n",
       "      <td>Jungle Hunt</td>\n",
       "      <td>1100.0</td>\n",
       "      <td>950.123333</td>\n",
       "    </tr>\n",
       "    <tr>\n",
       "      <th>1847</th>\n",
       "      <td>Guitar Hero 5</td>\n",
       "      <td>1100.0</td>\n",
       "      <td>733.691861</td>\n",
       "    </tr>\n",
       "    <tr>\n",
       "      <th>16596</th>\n",
       "      <td>Know How 2</td>\n",
       "      <td>10.0</td>\n",
       "      <td>17.800000</td>\n",
       "    </tr>\n",
       "  </tbody>\n",
       "</table>\n",
       "</div>"
      ],
      "text/plain": [
       "                Name  Global_Sales   PredTotal\n",
       "1848       Megamania        1100.0  809.900000\n",
       "1851     Jungle Hunt        1100.0  950.123333\n",
       "1847   Guitar Hero 5        1100.0  733.691861\n",
       "16596     Know How 2          10.0   17.800000"
      ]
     },
     "execution_count": 113,
     "metadata": {},
     "output_type": "execute_result"
    }
   ],
   "source": [
    "y_predrf = pd.DataFrame(y_predrf, columns = [\"PredTotal\"], index = game_pred.index)\n",
    "gamedata_accrf = pd.concat([game_pred[[\"Name\", \"Global_Sales\"]], y_predrf], axis = 1)\n",
    "\n",
    "y_errsrf = 100 * abs(gamedata_accrf[\"Global_Sales\"] - gamedata_accrf[\"PredTotal\"]) / gamedata_accrf[\"Global_Sales\"]\n",
    "y_errsrf = pd.DataFrame(y_errsrf, columns = [\"Error\"], index = game_pred.index)\n",
    "game_accrf = pd.concat([gamedata_accrf, y_errsrf], axis = 1)\n",
    "\n",
    "gamedata_accrf"
   ]
  },
  {
   "cell_type": "code",
   "execution_count": null,
   "id": "c96d7015",
   "metadata": {},
   "outputs": [],
   "source": []
  },
  {
   "cell_type": "code",
   "execution_count": null,
   "id": "0b31d8bc",
   "metadata": {},
   "outputs": [],
   "source": []
  },
  {
   "cell_type": "code",
   "execution_count": null,
   "id": "e4730e64",
   "metadata": {},
   "outputs": [],
   "source": []
  },
  {
   "cell_type": "code",
   "execution_count": null,
   "id": "3269e07f",
   "metadata": {},
   "outputs": [],
   "source": []
  },
  {
   "cell_type": "code",
   "execution_count": null,
   "id": "db9bfba1",
   "metadata": {},
   "outputs": [],
   "source": []
  },
  {
   "cell_type": "code",
   "execution_count": null,
   "id": "ed2d9773",
   "metadata": {},
   "outputs": [],
   "source": []
  },
  {
   "cell_type": "code",
   "execution_count": null,
   "id": "36bd310d",
   "metadata": {},
   "outputs": [],
   "source": []
  },
  {
   "cell_type": "code",
   "execution_count": null,
   "id": "8d93eec6",
   "metadata": {},
   "outputs": [],
   "source": []
  }
 ],
 "metadata": {
  "kernelspec": {
   "display_name": "Python 3 (ipykernel)",
   "language": "python",
   "name": "python3"
  },
  "language_info": {
   "codemirror_mode": {
    "name": "ipython",
    "version": 3
   },
   "file_extension": ".py",
   "mimetype": "text/x-python",
   "name": "python",
   "nbconvert_exporter": "python",
   "pygments_lexer": "ipython3",
   "version": "3.9.7"
  }
 },
 "nbformat": 4,
 "nbformat_minor": 5
}
